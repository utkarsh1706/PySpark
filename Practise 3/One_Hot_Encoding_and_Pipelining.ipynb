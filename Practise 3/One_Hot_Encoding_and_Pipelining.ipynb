{
  "nbformat": 4,
  "nbformat_minor": 0,
  "metadata": {
    "colab": {
      "provenance": []
    },
    "kernelspec": {
      "name": "python3",
      "display_name": "Python 3"
    },
    "language_info": {
      "name": "python"
    }
  },
  "cells": [
    {
      "cell_type": "code",
      "execution_count": 1,
      "metadata": {
        "colab": {
          "base_uri": "https://localhost:8080/"
        },
        "id": "S39LuZUxWUg7",
        "outputId": "20007078-c905-4db6-a27a-cccdf094df3e"
      },
      "outputs": [
        {
          "output_type": "stream",
          "name": "stdout",
          "text": [
            "Looking in indexes: https://pypi.org/simple, https://us-python.pkg.dev/colab-wheels/public/simple/\n",
            "Requirement already satisfied: pyspark in /usr/local/lib/python3.8/dist-packages (3.3.1)\n",
            "Requirement already satisfied: py4j==0.10.9.5 in /usr/local/lib/python3.8/dist-packages (from pyspark) (0.10.9.5)\n"
          ]
        }
      ],
      "source": [
        "!pip install pyspark"
      ]
    },
    {
      "cell_type": "code",
      "source": [
        "import pyspark\n",
        "import pandas as pd\n",
        "from pyspark.sql import SparkSession"
      ],
      "metadata": {
        "id": "a2YQYM62WWBH"
      },
      "execution_count": 2,
      "outputs": []
    },
    {
      "cell_type": "code",
      "source": [
        "spark=SparkSession.builder.appName('Utkarsh Kuchhal Practise').getOrCreate()"
      ],
      "metadata": {
        "id": "LzRbS668WYRN"
      },
      "execution_count": 3,
      "outputs": []
    },
    {
      "cell_type": "code",
      "source": [
        "df_pyspark=spark.read.option('header','true').csv('ind-ban-comment.csv',inferSchema=True)"
      ],
      "metadata": {
        "id": "kZnyWcP9WaJL"
      },
      "execution_count": 4,
      "outputs": []
    },
    {
      "cell_type": "code",
      "source": [
        "df_pyspark.show()"
      ],
      "metadata": {
        "colab": {
          "base_uri": "https://localhost:8080/"
        },
        "id": "x1qFExcGWh_D",
        "outputId": "03cd32eb-0d2d-419b-dcf6-a57288be3c68"
      },
      "execution_count": 5,
      "outputs": [
        {
          "output_type": "stream",
          "name": "stdout",
          "text": [
            "+-------+-----------------+------+------------------+--------------------+------+---------+---+------+----------+--------+----+----+-------------------+\n",
            "|Batsman|     Batsman_Name|Bowler|       Bowler_Name|          Commentary|Detail|Dismissed| Id|Isball|Isboundary|Iswicket|Over|Runs|          Timestamp|\n",
            "+-------+-----------------+------+------------------+--------------------+------+---------+---+------+----------+--------+----+----+-------------------+\n",
            "|  28994|   Mohammed Shami| 63881| Mustafizur Rahman|OUT! Bowled! 5-fe...|     W|    28994|346|  true|      null|       1|49.6|   0|2019-07-02 13:18:47|\n",
            "|   5132|Bhuvneshwar Kumar| 63881| Mustafizur Rahman|WIDE AND RUN OUT!...|  W+wd|     5132|344|  true|      null|       1|49.6|   1|2019-07-02 13:17:28|\n",
            "|  28994|   Mohammed Shami| 63881| Mustafizur Rahman|Back of a length ...|  null|     null|343|  true|      null|    null|49.5|   1|2019-07-02 13:16:03|\n",
            "|   5132|Bhuvneshwar Kumar| 63881| Mustafizur Rahman|Just 1 run off th...|  null|     null|342|  true|      null|    null|49.4|   1|2019-07-02 13:15:17|\n",
            "|   3676|         MS Dhoni| 63881| Mustafizur Rahman|OUT! No Dhoni mag...|     W|     3676|340|  true|      null|       1|49.3|   0|2019-07-02 13:13:39|\n",
            "|   3676|         MS Dhoni| 63881| Mustafizur Rahman|Another dot. Bang...|  null|     null|339|  true|      null|    null|49.2|   0|2019-07-02 13:12:47|\n",
            "|   3676|         MS Dhoni| 63881| Mustafizur Rahman|Good length ball ...|  null|     null|338|  true|      null|    null|49.1|   0|2019-07-02 13:12:21|\n",
            "|   3676|         MS Dhoni| 64151|Mohammad Saifuddin|Good length ball ...|  null|     null|337|  true|      null|    null|48.6|   1|2019-07-02 13:10:58|\n",
            "|   3676|         MS Dhoni| 64151|Mohammad Saifuddin|FOUR! Dhoni rolli...|  null|     null|336|  true|         1|    null|48.5|   4|2019-07-02 13:10:12|\n",
            "|   3676|         MS Dhoni| 64151|Mohammad Saifuddin|Slower delivery o...|  null|     null|335|  true|      null|    null|48.4|   0|2019-07-02 13:09:46|\n",
            "|   3676|         MS Dhoni| 64151|Mohammad Saifuddin|Fuller on off, Dh...|  null|     null|334|  true|      null|    null|48.3|   0|2019-07-02 13:09:06|\n",
            "|   3676|         MS Dhoni| 64151|Mohammad Saifuddin|FOUR! Driven with...|  null|     null|333|  true|         1|    null|48.2|   4|2019-07-02 13:08:18|\n",
            "|   3676|         MS Dhoni| 64151|Mohammad Saifuddin|Good length ball ...|  null|     null|332|  true|      null|    null|48.1|   2|2019-07-02 13:07:42|\n",
            "|   5132|Bhuvneshwar Kumar| 63881| Mustafizur Rahman|Slower bouncer to...|  null|     null|331|  true|      null|    null|47.6|   0|2019-07-02 13:06:42|\n",
            "|   3676|         MS Dhoni| 63881| Mustafizur Rahman|Length delivery a...|  null|     null|330|  true|      null|    null|47.5|   1|2019-07-02 13:06:15|\n",
            "|   3676|         MS Dhoni| 63881| Mustafizur Rahman|Good length ball ...|  null|     null|329|  true|      null|    null|47.4|   0|2019-07-02 13:05:32|\n",
            "|   5132|Bhuvneshwar Kumar| 63881| Mustafizur Rahman|Good length ball ...|  null|     null|328|  true|      null|    null|47.3|   1|2019-07-02 13:04:58|\n",
            "|   3632|   Dinesh Karthik| 63881| Mustafizur Rahman|OUT! Caught! Kart...|     W|     3632|326|  true|      null|       1|47.2|   0|2019-07-02 13:03:29|\n",
            "|   3676|         MS Dhoni| 63881| Mustafizur Rahman|On the pads, Dhon...|  null|     null|325|  true|      null|    null|47.1|   1|2019-07-02 13:02:17|\n",
            "|   3676|         MS Dhoni| 64151|Mohammad Saifuddin|Almost a calamity...|  null|     null|324|  true|      null|    null|46.6|   1|2019-07-02 13:01:16|\n",
            "+-------+-----------------+------+------------------+--------------------+------+---------+---+------+----------+--------+----+----+-------------------+\n",
            "only showing top 20 rows\n",
            "\n"
          ]
        }
      ]
    },
    {
      "cell_type": "code",
      "source": [
        "df_pyspark.printSchema()"
      ],
      "metadata": {
        "colab": {
          "base_uri": "https://localhost:8080/"
        },
        "id": "LWGS6Wg6WljT",
        "outputId": "0eeaf323-20a8-455f-ba4c-431ae8c7f2bb"
      },
      "execution_count": 6,
      "outputs": [
        {
          "output_type": "stream",
          "name": "stdout",
          "text": [
            "root\n",
            " |-- Batsman: integer (nullable = true)\n",
            " |-- Batsman_Name: string (nullable = true)\n",
            " |-- Bowler: integer (nullable = true)\n",
            " |-- Bowler_Name: string (nullable = true)\n",
            " |-- Commentary: string (nullable = true)\n",
            " |-- Detail: string (nullable = true)\n",
            " |-- Dismissed: integer (nullable = true)\n",
            " |-- Id: integer (nullable = true)\n",
            " |-- Isball: boolean (nullable = true)\n",
            " |-- Isboundary: integer (nullable = true)\n",
            " |-- Iswicket: integer (nullable = true)\n",
            " |-- Over: double (nullable = true)\n",
            " |-- Runs: integer (nullable = true)\n",
            " |-- Timestamp: timestamp (nullable = true)\n",
            "\n"
          ]
        }
      ]
    },
    {
      "cell_type": "code",
      "source": [
        "df_pyspark.describe().show()"
      ],
      "metadata": {
        "colab": {
          "base_uri": "https://localhost:8080/"
        },
        "id": "Z-HeynwNWniE",
        "outputId": "0a64c3bd-cace-4cc3-9dc2-1b8c9100a929"
      },
      "execution_count": 7,
      "outputs": [
        {
          "output_type": "stream",
          "name": "stdout",
          "text": [
            "+-------+------------------+-----------------+------------------+-----------------+--------------------+------+------------------+-----------------+----------+--------+------------------+------------------+\n",
            "|summary|           Batsman|     Batsman_Name|            Bowler|      Bowler_Name|          Commentary|Detail|         Dismissed|               Id|Isboundary|Iswicket|              Over|              Runs|\n",
            "+-------+------------------+-----------------+------------------+-----------------+--------------------+------+------------------+-----------------+----------+--------+------------------+------------------+\n",
            "|  count|               605|              605|               605|              605|                 605|    40|                19|              605|        67|      19|               605|               605|\n",
            "|   mean|31971.652892561982|             null| 35304.43636363636|             null|                null|  null| 29728.21052631579| 169.099173553719|       1.0|     1.0| 24.54975206611575|0.9917355371900827|\n",
            "| stddev|29174.050305769255|             null|27624.437514359786|             null|                null|  null|29082.396377608355|96.59540500214156|       0.0|     0.0|14.250888926776732| 1.342725481259329|\n",
            "|    min|              1948|Bhuvneshwar Kumar|              1948|Bhuvneshwar Kumar|10 dot ball on th...|     W|              1948|                2|         1|       1|               0.1|                 0|\n",
            "|    max|             65756|      Virat Kohli|             64151| Yuzvendra Chahal|Yorker on off. It...|    wd|             65756|              346|         1|       1|              49.6|                 6|\n",
            "+-------+------------------+-----------------+------------------+-----------------+--------------------+------+------------------+-----------------+----------+--------+------------------+------------------+\n",
            "\n"
          ]
        }
      ]
    },
    {
      "cell_type": "code",
      "source": [
        "df_pyspark = df_pyspark.drop(*['Batsman', 'Bowler', 'Id'])\n",
        "df_pyspark.columns"
      ],
      "metadata": {
        "colab": {
          "base_uri": "https://localhost:8080/"
        },
        "id": "AqpHFq79W3zp",
        "outputId": "7e053bcd-cae6-4d5d-f5a3-3ac915a8dd52"
      },
      "execution_count": 8,
      "outputs": [
        {
          "output_type": "execute_result",
          "data": {
            "text/plain": [
              "['Batsman_Name',\n",
              " 'Bowler_Name',\n",
              " 'Commentary',\n",
              " 'Detail',\n",
              " 'Dismissed',\n",
              " 'Isball',\n",
              " 'Isboundary',\n",
              " 'Iswicket',\n",
              " 'Over',\n",
              " 'Runs',\n",
              " 'Timestamp']"
            ]
          },
          "metadata": {},
          "execution_count": 8
        }
      ]
    },
    {
      "cell_type": "markdown",
      "source": [
        "#Data preparation and feature engineering"
      ],
      "metadata": {
        "id": "3TZ9FMni6J0b"
      }
    },
    {
      "cell_type": "code",
      "source": [
        "from pyspark.sql.functions import isnull, when, count, col\n",
        "\n",
        "df_pyspark.select([count(when(isnull(c), c)).alias(c) for c in df_pyspark.columns]).show()"
      ],
      "metadata": {
        "colab": {
          "base_uri": "https://localhost:8080/"
        },
        "id": "4zav8tP5Wpxj",
        "outputId": "4ba4f2cc-4488-4890-86a5-9578240054e8"
      },
      "execution_count": 9,
      "outputs": [
        {
          "output_type": "stream",
          "name": "stdout",
          "text": [
            "+------------+-----------+----------+------+---------+------+----------+--------+----+----+---------+\n",
            "|Batsman_Name|Bowler_Name|Commentary|Detail|Dismissed|Isball|Isboundary|Iswicket|Over|Runs|Timestamp|\n",
            "+------------+-----------+----------+------+---------+------+----------+--------+----+----+---------+\n",
            "|           0|          0|         0|   565|      586|     0|       538|     586|   0|   0|        0|\n",
            "+------------+-----------+----------+------+---------+------+----------+--------+----+----+---------+\n",
            "\n"
          ]
        }
      ]
    },
    {
      "cell_type": "code",
      "source": [
        "# value counts of Batsman_Name column\n",
        "df_pyspark.groupBy('Batsman_Name').count().show()"
      ],
      "metadata": {
        "colab": {
          "base_uri": "https://localhost:8080/"
        },
        "id": "RY7lwV3_XNZQ",
        "outputId": "f8dc7033-7282-4347-9c14-cabcf559faee"
      },
      "execution_count": 10,
      "outputs": [
        {
          "output_type": "stream",
          "name": "stdout",
          "text": [
            "+------------------+-----+\n",
            "|      Batsman_Name|count|\n",
            "+------------------+-----+\n",
            "|     Soumya Sarkar|   39|\n",
            "|  Mashrafe Mortaza|    5|\n",
            "|   Shakib Al Hasan|   75|\n",
            "|   Mushfiqur Rahim|   23|\n",
            "|Mohammad Saifuddin|   42|\n",
            "|         Liton Das|   24|\n",
            "|      Rishabh Pant|   43|\n",
            "|    Mohammed Shami|    2|\n",
            "|       Tamim Iqbal|   31|\n",
            "|     Hardik Pandya|    2|\n",
            "|          KL Rahul|   93|\n",
            "| Bhuvneshwar Kumar|    4|\n",
            "|     Rubel Hossain|   11|\n",
            "|      Rohit Sharma|   94|\n",
            "|    Dinesh Karthik|    9|\n",
            "|       Virat Kohli|   27|\n",
            "|          MS Dhoni|   33|\n",
            "|     Sabbir Rahman|   40|\n",
            "|  Mosaddek Hossain|    7|\n",
            "| Mustafizur Rahman|    1|\n",
            "+------------------+-----+\n",
            "\n"
          ]
        }
      ]
    },
    {
      "cell_type": "code",
      "source": [
        "from pyspark.ml.feature import StringIndexer\n",
        "\n",
        "SI_batsman = StringIndexer(inputCol='Batsman_Name',outputCol='Batsman_Index')\n",
        "SI_bowler = StringIndexer(inputCol='Bowler_Name',outputCol='Bowler_Index')\n",
        "\n",
        "df_pyspark = SI_batsman.fit(df_pyspark).transform(df_pyspark)\n",
        "df_pyspark = SI_bowler.fit(df_pyspark).transform(df_pyspark)"
      ],
      "metadata": {
        "id": "8e7r8QvTXa3w"
      },
      "execution_count": 11,
      "outputs": []
    },
    {
      "cell_type": "code",
      "source": [
        "df_pyspark.show()"
      ],
      "metadata": {
        "colab": {
          "base_uri": "https://localhost:8080/"
        },
        "id": "I_TXW_XyYL0L",
        "outputId": "dc7466fd-2e04-49f5-f9fa-0b4cb505c5a4"
      },
      "execution_count": 12,
      "outputs": [
        {
          "output_type": "stream",
          "name": "stdout",
          "text": [
            "+-----------------+------------------+--------------------+------+---------+------+----------+--------+----+----+-------------------+-------------+------------+\n",
            "|     Batsman_Name|       Bowler_Name|          Commentary|Detail|Dismissed|Isball|Isboundary|Iswicket|Over|Runs|          Timestamp|Batsman_Index|Bowler_Index|\n",
            "+-----------------+------------------+--------------------+------+---------+------+----------+--------+----+----+-------------------+-------------+------------+\n",
            "|   Mohammed Shami| Mustafizur Rahman|OUT! Bowled! 5-fe...|     W|    28994|  true|      null|       1|49.6|   0|2019-07-02 13:18:47|         18.0|         0.0|\n",
            "|Bhuvneshwar Kumar| Mustafizur Rahman|WIDE AND RUN OUT!...|  W+wd|     5132|  true|      null|       1|49.6|   1|2019-07-02 13:17:28|         16.0|         0.0|\n",
            "|   Mohammed Shami| Mustafizur Rahman|Back of a length ...|  null|     null|  true|      null|    null|49.5|   1|2019-07-02 13:16:03|         18.0|         0.0|\n",
            "|Bhuvneshwar Kumar| Mustafizur Rahman|Just 1 run off th...|  null|     null|  true|      null|    null|49.4|   1|2019-07-02 13:15:17|         16.0|         0.0|\n",
            "|         MS Dhoni| Mustafizur Rahman|OUT! No Dhoni mag...|     W|     3676|  true|      null|       1|49.3|   0|2019-07-02 13:13:39|          7.0|         0.0|\n",
            "|         MS Dhoni| Mustafizur Rahman|Another dot. Bang...|  null|     null|  true|      null|    null|49.2|   0|2019-07-02 13:12:47|          7.0|         0.0|\n",
            "|         MS Dhoni| Mustafizur Rahman|Good length ball ...|  null|     null|  true|      null|    null|49.1|   0|2019-07-02 13:12:21|          7.0|         0.0|\n",
            "|         MS Dhoni|Mohammad Saifuddin|Good length ball ...|  null|     null|  true|      null|    null|48.6|   1|2019-07-02 13:10:58|          7.0|         8.0|\n",
            "|         MS Dhoni|Mohammad Saifuddin|FOUR! Dhoni rolli...|  null|     null|  true|         1|    null|48.5|   4|2019-07-02 13:10:12|          7.0|         8.0|\n",
            "|         MS Dhoni|Mohammad Saifuddin|Slower delivery o...|  null|     null|  true|      null|    null|48.4|   0|2019-07-02 13:09:46|          7.0|         8.0|\n",
            "|         MS Dhoni|Mohammad Saifuddin|Fuller on off, Dh...|  null|     null|  true|      null|    null|48.3|   0|2019-07-02 13:09:06|          7.0|         8.0|\n",
            "|         MS Dhoni|Mohammad Saifuddin|FOUR! Driven with...|  null|     null|  true|         1|    null|48.2|   4|2019-07-02 13:08:18|          7.0|         8.0|\n",
            "|         MS Dhoni|Mohammad Saifuddin|Good length ball ...|  null|     null|  true|      null|    null|48.1|   2|2019-07-02 13:07:42|          7.0|         8.0|\n",
            "|Bhuvneshwar Kumar| Mustafizur Rahman|Slower bouncer to...|  null|     null|  true|      null|    null|47.6|   0|2019-07-02 13:06:42|         16.0|         0.0|\n",
            "|         MS Dhoni| Mustafizur Rahman|Length delivery a...|  null|     null|  true|      null|    null|47.5|   1|2019-07-02 13:06:15|          7.0|         0.0|\n",
            "|         MS Dhoni| Mustafizur Rahman|Good length ball ...|  null|     null|  true|      null|    null|47.4|   0|2019-07-02 13:05:32|          7.0|         0.0|\n",
            "|Bhuvneshwar Kumar| Mustafizur Rahman|Good length ball ...|  null|     null|  true|      null|    null|47.3|   1|2019-07-02 13:04:58|         16.0|         0.0|\n",
            "|   Dinesh Karthik| Mustafizur Rahman|OUT! Caught! Kart...|     W|     3632|  true|      null|       1|47.2|   0|2019-07-02 13:03:29|         13.0|         0.0|\n",
            "|         MS Dhoni| Mustafizur Rahman|On the pads, Dhon...|  null|     null|  true|      null|    null|47.1|   1|2019-07-02 13:02:17|          7.0|         0.0|\n",
            "|         MS Dhoni|Mohammad Saifuddin|Almost a calamity...|  null|     null|  true|      null|    null|46.6|   1|2019-07-02 13:01:16|          7.0|         8.0|\n",
            "+-----------------+------------------+--------------------+------+---------+------+----------+--------+----+----+-------------------+-------------+------------+\n",
            "only showing top 20 rows\n",
            "\n"
          ]
        }
      ]
    },
    {
      "cell_type": "markdown",
      "source": [
        "##One Hot Encoding"
      ],
      "metadata": {
        "id": "N2RJ7aZr7cqw"
      }
    },
    {
      "cell_type": "code",
      "source": [
        "from pyspark.ml.feature import OneHotEncoder"
      ],
      "metadata": {
        "id": "oAWcNvt_YSnY"
      },
      "execution_count": 13,
      "outputs": []
    },
    {
      "cell_type": "code",
      "source": [
        "OHE = OneHotEncoder(inputCols=['Batsman_Index', 'Bowler_Index'],outputCols=['Batsman_OHE', 'Bowler_OHE'])\n",
        "\n",
        "df_pyspark = OHE.fit(df_pyspark).transform(df_pyspark)\n",
        "\n",
        "df_pyspark.show()"
      ],
      "metadata": {
        "colab": {
          "base_uri": "https://localhost:8080/"
        },
        "id": "hOwD5gIOsznQ",
        "outputId": "403e8b49-c37e-43fd-a4ed-38348f004fd5"
      },
      "execution_count": 14,
      "outputs": [
        {
          "output_type": "stream",
          "name": "stdout",
          "text": [
            "+-----------------+------------------+--------------------+------+---------+------+----------+--------+----+----+-------------------+-------------+------------+---------------+--------------+\n",
            "|     Batsman_Name|       Bowler_Name|          Commentary|Detail|Dismissed|Isball|Isboundary|Iswicket|Over|Runs|          Timestamp|Batsman_Index|Bowler_Index|    Batsman_OHE|    Bowler_OHE|\n",
            "+-----------------+------------------+--------------------+------+---------+------+----------+--------+----+----+-------------------+-------------+------------+---------------+--------------+\n",
            "|   Mohammed Shami| Mustafizur Rahman|OUT! Bowled! 5-fe...|     W|    28994|  true|      null|       1|49.6|   0|2019-07-02 13:18:47|         18.0|         0.0|(19,[18],[1.0])|(11,[0],[1.0])|\n",
            "|Bhuvneshwar Kumar| Mustafizur Rahman|WIDE AND RUN OUT!...|  W+wd|     5132|  true|      null|       1|49.6|   1|2019-07-02 13:17:28|         16.0|         0.0|(19,[16],[1.0])|(11,[0],[1.0])|\n",
            "|   Mohammed Shami| Mustafizur Rahman|Back of a length ...|  null|     null|  true|      null|    null|49.5|   1|2019-07-02 13:16:03|         18.0|         0.0|(19,[18],[1.0])|(11,[0],[1.0])|\n",
            "|Bhuvneshwar Kumar| Mustafizur Rahman|Just 1 run off th...|  null|     null|  true|      null|    null|49.4|   1|2019-07-02 13:15:17|         16.0|         0.0|(19,[16],[1.0])|(11,[0],[1.0])|\n",
            "|         MS Dhoni| Mustafizur Rahman|OUT! No Dhoni mag...|     W|     3676|  true|      null|       1|49.3|   0|2019-07-02 13:13:39|          7.0|         0.0| (19,[7],[1.0])|(11,[0],[1.0])|\n",
            "|         MS Dhoni| Mustafizur Rahman|Another dot. Bang...|  null|     null|  true|      null|    null|49.2|   0|2019-07-02 13:12:47|          7.0|         0.0| (19,[7],[1.0])|(11,[0],[1.0])|\n",
            "|         MS Dhoni| Mustafizur Rahman|Good length ball ...|  null|     null|  true|      null|    null|49.1|   0|2019-07-02 13:12:21|          7.0|         0.0| (19,[7],[1.0])|(11,[0],[1.0])|\n",
            "|         MS Dhoni|Mohammad Saifuddin|Good length ball ...|  null|     null|  true|      null|    null|48.6|   1|2019-07-02 13:10:58|          7.0|         8.0| (19,[7],[1.0])|(11,[8],[1.0])|\n",
            "|         MS Dhoni|Mohammad Saifuddin|FOUR! Dhoni rolli...|  null|     null|  true|         1|    null|48.5|   4|2019-07-02 13:10:12|          7.0|         8.0| (19,[7],[1.0])|(11,[8],[1.0])|\n",
            "|         MS Dhoni|Mohammad Saifuddin|Slower delivery o...|  null|     null|  true|      null|    null|48.4|   0|2019-07-02 13:09:46|          7.0|         8.0| (19,[7],[1.0])|(11,[8],[1.0])|\n",
            "|         MS Dhoni|Mohammad Saifuddin|Fuller on off, Dh...|  null|     null|  true|      null|    null|48.3|   0|2019-07-02 13:09:06|          7.0|         8.0| (19,[7],[1.0])|(11,[8],[1.0])|\n",
            "|         MS Dhoni|Mohammad Saifuddin|FOUR! Driven with...|  null|     null|  true|         1|    null|48.2|   4|2019-07-02 13:08:18|          7.0|         8.0| (19,[7],[1.0])|(11,[8],[1.0])|\n",
            "|         MS Dhoni|Mohammad Saifuddin|Good length ball ...|  null|     null|  true|      null|    null|48.1|   2|2019-07-02 13:07:42|          7.0|         8.0| (19,[7],[1.0])|(11,[8],[1.0])|\n",
            "|Bhuvneshwar Kumar| Mustafizur Rahman|Slower bouncer to...|  null|     null|  true|      null|    null|47.6|   0|2019-07-02 13:06:42|         16.0|         0.0|(19,[16],[1.0])|(11,[0],[1.0])|\n",
            "|         MS Dhoni| Mustafizur Rahman|Length delivery a...|  null|     null|  true|      null|    null|47.5|   1|2019-07-02 13:06:15|          7.0|         0.0| (19,[7],[1.0])|(11,[0],[1.0])|\n",
            "|         MS Dhoni| Mustafizur Rahman|Good length ball ...|  null|     null|  true|      null|    null|47.4|   0|2019-07-02 13:05:32|          7.0|         0.0| (19,[7],[1.0])|(11,[0],[1.0])|\n",
            "|Bhuvneshwar Kumar| Mustafizur Rahman|Good length ball ...|  null|     null|  true|      null|    null|47.3|   1|2019-07-02 13:04:58|         16.0|         0.0|(19,[16],[1.0])|(11,[0],[1.0])|\n",
            "|   Dinesh Karthik| Mustafizur Rahman|OUT! Caught! Kart...|     W|     3632|  true|      null|       1|47.2|   0|2019-07-02 13:03:29|         13.0|         0.0|(19,[13],[1.0])|(11,[0],[1.0])|\n",
            "|         MS Dhoni| Mustafizur Rahman|On the pads, Dhon...|  null|     null|  true|      null|    null|47.1|   1|2019-07-02 13:02:17|          7.0|         0.0| (19,[7],[1.0])|(11,[0],[1.0])|\n",
            "|         MS Dhoni|Mohammad Saifuddin|Almost a calamity...|  null|     null|  true|      null|    null|46.6|   1|2019-07-02 13:01:16|          7.0|         8.0| (19,[7],[1.0])|(11,[8],[1.0])|\n",
            "+-----------------+------------------+--------------------+------+---------+------+----------+--------+----+----+-------------------+-------------+------------+---------------+--------------+\n",
            "only showing top 20 rows\n",
            "\n"
          ]
        }
      ]
    },
    {
      "cell_type": "code",
      "source": [
        "from pyspark.ml.feature import VectorAssembler\n",
        "\n",
        "assembler = VectorAssembler(inputCols=['Isboundary',\n",
        "                                       'Iswicket',\n",
        "                                       'Over',\n",
        "                                       'Runs',\n",
        "                                       'Batsman_OHE',\n",
        "                                       'Bowler_OHE'],\n",
        "                           outputCol='vector')\n",
        "\n",
        "# fill the null values\n",
        "df_pyspark = df_pyspark.fillna(0)\n",
        "\n",
        "final_data = assembler.transform(df_pyspark)"
      ],
      "metadata": {
        "id": "BfLI-24stH0h"
      },
      "execution_count": 15,
      "outputs": []
    },
    {
      "cell_type": "code",
      "source": [
        "final_data.select('vector').show()"
      ],
      "metadata": {
        "colab": {
          "base_uri": "https://localhost:8080/"
        },
        "id": "_-zYU1Mitnqt",
        "outputId": "5bca08e2-87f6-4d37-fb8f-816a5df7d8e6"
      },
      "execution_count": 16,
      "outputs": [
        {
          "output_type": "stream",
          "name": "stdout",
          "text": [
            "+--------------------+\n",
            "|              vector|\n",
            "+--------------------+\n",
            "|(34,[1,2,22,23],[...|\n",
            "|(34,[1,2,3,20,23]...|\n",
            "|(34,[2,3,22,23],[...|\n",
            "|(34,[2,3,20,23],[...|\n",
            "|(34,[1,2,11,23],[...|\n",
            "|(34,[2,11,23],[49...|\n",
            "|(34,[2,11,23],[49...|\n",
            "|(34,[2,3,11,31],[...|\n",
            "|(34,[0,2,3,11,31]...|\n",
            "|(34,[2,11,31],[48...|\n",
            "|(34,[2,11,31],[48...|\n",
            "|(34,[0,2,3,11,31]...|\n",
            "|(34,[2,3,11,31],[...|\n",
            "|(34,[2,20,23],[47...|\n",
            "|(34,[2,3,11,23],[...|\n",
            "|(34,[2,11,23],[47...|\n",
            "|(34,[2,3,20,23],[...|\n",
            "|(34,[1,2,17,23],[...|\n",
            "|(34,[2,3,11,23],[...|\n",
            "|(34,[2,3,11,31],[...|\n",
            "+--------------------+\n",
            "only showing top 20 rows\n",
            "\n"
          ]
        }
      ]
    },
    {
      "cell_type": "markdown",
      "source": [
        "#Pipeline"
      ],
      "metadata": {
        "id": "ZfOzTAQV6WAF"
      }
    },
    {
      "cell_type": "code",
      "source": [
        "sample_data_train = spark.createDataFrame([\n",
        "    (2.0, 'A', 'S10', 40, 1.0),\n",
        "    (1.0, 'X', 'E10', 25, 1.0),\n",
        "    (4.0, 'X', 'S20', 10, 0.0),\n",
        "    (3.0, 'Z', 'S10', 20, 0.0),\n",
        "    (4.0, 'A', 'E10', 30, 1.0),\n",
        "    (2.0, 'Z', 'S10', 40, 0.0),\n",
        "    (5.0, 'X', 'D10', 10, 1.0),\n",
        "], ['feature_1', 'feature_2', 'feature_3', 'feature_4', 'label'])\n",
        "\n",
        "sample_data_train.show()"
      ],
      "metadata": {
        "colab": {
          "base_uri": "https://localhost:8080/"
        },
        "id": "e4Sb45gU6XrB",
        "outputId": "1b9b05a3-c6c1-41d6-a1fd-cd7ca8e55a15"
      },
      "execution_count": 17,
      "outputs": [
        {
          "output_type": "stream",
          "name": "stdout",
          "text": [
            "+---------+---------+---------+---------+-----+\n",
            "|feature_1|feature_2|feature_3|feature_4|label|\n",
            "+---------+---------+---------+---------+-----+\n",
            "|      2.0|        A|      S10|       40|  1.0|\n",
            "|      1.0|        X|      E10|       25|  1.0|\n",
            "|      4.0|        X|      S20|       10|  0.0|\n",
            "|      3.0|        Z|      S10|       20|  0.0|\n",
            "|      4.0|        A|      E10|       30|  1.0|\n",
            "|      2.0|        Z|      S10|       40|  0.0|\n",
            "|      5.0|        X|      D10|       10|  1.0|\n",
            "+---------+---------+---------+---------+-----+\n",
            "\n"
          ]
        }
      ]
    },
    {
      "cell_type": "code",
      "source": [
        "from pyspark.ml.classification import LogisticRegression\n",
        "from pyspark.ml import Pipeline"
      ],
      "metadata": {
        "id": "LhBqvfsu6vtr"
      },
      "execution_count": 18,
      "outputs": []
    },
    {
      "cell_type": "code",
      "source": [
        "stage_1 = StringIndexer(inputCol= 'feature_2', outputCol= 'feature_2_index')\n",
        "\n",
        "stage_2 = StringIndexer(inputCol= 'feature_3', outputCol= 'feature_3_index')\n",
        "\n",
        "stage_3 = OneHotEncoder(inputCols=[stage_1.getOutputCol(), stage_2.getOutputCol()], outputCols= ['feature_2_encoded', 'feature_3_encoded'])\n",
        "\n",
        "stage_4 = VectorAssembler(inputCols=['feature_1', 'feature_2_encoded', 'feature_3_encoded', 'feature_4'], outputCol='features')\n",
        "                      \n",
        "stage_5 = LogisticRegression(featuresCol='features',labelCol='label')\n",
        "\n",
        "# setup the pipeline\n",
        "regression_pipeline = Pipeline(stages= [stage_1, stage_2, stage_3, stage_4, stage_5])\n",
        "\n",
        "model = regression_pipeline.fit(sample_data_train)\n",
        "\n",
        "sample_data_train = model.transform(sample_data_train)\n",
        "\n",
        "sample_data_train.select('features', 'label', 'rawPrediction', 'probability', 'prediction').show()"
      ],
      "metadata": {
        "colab": {
          "base_uri": "https://localhost:8080/"
        },
        "id": "-fzzba-n6e4w",
        "outputId": "83a951c1-8173-4355-e758-f124df9e9fc3"
      },
      "execution_count": 19,
      "outputs": [
        {
          "output_type": "stream",
          "name": "stdout",
          "text": [
            "+--------------------+-----+--------------------+--------------------+----------+\n",
            "|            features|label|       rawPrediction|         probability|prediction|\n",
            "+--------------------+-----+--------------------+--------------------+----------+\n",
            "|[2.0,0.0,1.0,1.0,...|  1.0|[-18.225955524188...|[1.21497707416456...|       1.0|\n",
            "|[1.0,1.0,0.0,0.0,...|  1.0|[-18.358243476371...|[1.06442767136925...|       1.0|\n",
            "|(7,[0,1,6],[4.0,1...|  0.0|[18.3563077812100...|[0.99999998933509...|       0.0|\n",
            "|(7,[0,3,6],[3.0,1...|  0.0|[27.4123701891423...|[0.99999999999875...|       0.0|\n",
            "|[4.0,0.0,1.0,0.0,...|  1.0|[-35.975077024041...|[2.37805865550653...|       1.0|\n",
            "|(7,[0,3,6],[2.0,1...|  0.0|[18.2316263544839...|[0.99999998791893...|       0.0|\n",
            "|[5.0,1.0,0.0,0.0,...|  1.0|[-19.243972103991...|[4.38984416425464...|       1.0|\n",
            "+--------------------+-----+--------------------+--------------------+----------+\n",
            "\n"
          ]
        }
      ]
    }
  ]
}